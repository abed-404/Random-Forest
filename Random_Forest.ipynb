{
  "cells": [
    {
      "cell_type": "markdown",
      "metadata": {
        "id": "view-in-github",
        "colab_type": "text"
      },
      "source": [
        "<a href=\"https://colab.research.google.com/github/abed-404/Random-Forest/blob/main/Random_Forest.ipynb\" target=\"_parent\"><img src=\"https://colab.research.google.com/assets/colab-badge.svg\" alt=\"Open In Colab\"/></a>"
      ]
    },
    {
      "cell_type": "code",
      "execution_count": 2,
      "metadata": {
        "id": "Jqk0bSjJhj32"
      },
      "outputs": [],
      "source": [
        "import pandas as pd\n",
        "import numpy as np\n",
        "import matplotlib.pyplot as plt\n",
        "\n",
        "#%%  import data\n",
        "\n",
        "data = pd.read_csv(\"data.csv\")\n",
        "data.drop([\"id\",\"Unnamed: 32\"],axis=1,inplace = True)"
      ]
    },
    {
      "cell_type": "code",
      "execution_count": 3,
      "metadata": {
        "id": "FCJ1nhzBhm65"
      },
      "outputs": [],
      "source": [
        "# %%\n",
        "data.diagnosis = [ 1 if each == \"M\" else 0 for each in data.diagnosis]\n",
        "y = data.diagnosis.values\n",
        "x_data = data.drop([\"diagnosis\"],axis=1)\n",
        "#%% normalization\n",
        "\n",
        "x = (x_data - np.min(x_data))/(np.max(x_data)-np.min(x_data))"
      ]
    },
    {
      "cell_type": "code",
      "execution_count": 4,
      "metadata": {
        "id": "xW0M-Yexhojw"
      },
      "outputs": [],
      "source": [
        "# %% train test split\n",
        "from sklearn.model_selection import train_test_split\n",
        "x_train, x_test,y_train, y_test = train_test_split(x,y,test_size = 0.15,random_state = 42)"
      ]
    },
    {
      "cell_type": "code",
      "execution_count": 5,
      "metadata": {
        "colab": {
          "base_uri": "https://localhost:8080/"
        },
        "id": "Ce2Bk9vIhqf5",
        "outputId": "22500641-13cc-4566-a77a-caad42c30976"
      },
      "outputs": [
        {
          "output_type": "stream",
          "name": "stdout",
          "text": [
            "decision tree score:  0.9186046511627907\n"
          ]
        }
      ],
      "source": [
        "#%% decision tree\n",
        "from sklearn.tree import DecisionTreeClassifier\n",
        "dt = DecisionTreeClassifier()\n",
        "dt.fit(x_train,y_train)\n",
        "print(\"decision tree score: \", dt.score(x_test,y_test))"
      ]
    },
    {
      "cell_type": "code",
      "execution_count": 9,
      "metadata": {
        "colab": {
          "base_uri": "https://localhost:8080/"
        },
        "id": "20q0FcyhhsBB",
        "outputId": "15b952a7-dd88-4c2a-c70c-798b4fffdc4f"
      },
      "outputs": [
        {
          "output_type": "stream",
          "name": "stdout",
          "text": [
            "random forest algo result:  0.9534883720930233\n"
          ]
        }
      ],
      "source": [
        "#%%  random forest\n",
        "from sklearn.ensemble import RandomForestClassifier\n",
        "scores  = []\n",
        "rf = RandomForestClassifier(n_estimators = 100,random_state = 1,max_depth=i)\n",
        "rf.fit(x_train,y_train)\n",
        "print(\"random forest algo result: \",rf.score(x_test,y_test))\n",
        "#scores.append(rf.score(x_test,y_test))\n",
        "#plt.plot((4,128,2),rf.score)"
      ]
    }
  ],
  "metadata": {
    "colab": {
      "collapsed_sections": [],
      "name": "Random_Forest.ipynb",
      "provenance": [],
      "authorship_tag": "ABX9TyP1uyiJ+fJCURaKfwZSPRfR",
      "include_colab_link": true
    },
    "kernelspec": {
      "display_name": "Python 3",
      "name": "python3"
    },
    "language_info": {
      "name": "python"
    }
  },
  "nbformat": 4,
  "nbformat_minor": 0
}